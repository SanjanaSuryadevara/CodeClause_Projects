{
 "cells": [
  {
   "cell_type": "markdown",
   "id": "afc00fd5",
   "metadata": {},
   "source": [
    "# Personality Prediction via CV Analysis"
   ]
  },
  {
   "cell_type": "code",
   "execution_count": 1,
   "id": "7a0cdcf9",
   "metadata": {},
   "outputs": [],
   "source": [
    "# 0) Setup\n",
    "# If needed, uncomment to install:\n",
    "# !pip install pandas numpy scikit-learn joblib tqdm matplotlib\n",
    "import os, re, json, warnings, joblib\n",
    "warnings.filterwarnings(\"ignore\")\n",
    "import numpy as np\n",
    "import pandas as pd\n",
    "from tqdm import tqdm\n",
    "from sklearn.model_selection import train_test_split\n",
    "from sklearn.feature_extraction.text import TfidfVectorizer\n",
    "from sklearn.multioutput import MultiOutputRegressor\n",
    "from sklearn.linear_model import Ridge\n",
    "from sklearn.preprocessing import MinMaxScaler\n",
    "from sklearn.metrics import r2_score, mean_squared_error\n",
    "import matplotlib.pyplot as plt\n",
    "\n",
    "DATA_PATH = r\"C:\\Users\\suray\\Desktop\\personality_prediction_project_flat_artifacts\\UpdatedResumeDataSet.csv\" \n",
    "\n",
    "# Output artifact file names (flat files in current working directory)\n",
    "TFIDF_PATH = \"tfidf_b5.pkl\"\n",
    "MODEL_PATH = \"bigfive_ridge.pkl\"\n",
    "LABEL_SCALER_PATH = \"label_minmax.pkl\"\n",
    "META_PATH = \"meta.json\"\n"
   ]
  },
  {
   "cell_type": "code",
   "execution_count": 2,
   "id": "25f3f0a4",
   "metadata": {},
   "outputs": [
    {
     "name": "stdout",
     "output_type": "stream",
     "text": [
      "(962, 2)\n"
     ]
    },
    {
     "data": {
      "text/html": [
       "<div>\n",
       "<style scoped>\n",
       "    .dataframe tbody tr th:only-of-type {\n",
       "        vertical-align: middle;\n",
       "    }\n",
       "\n",
       "    .dataframe tbody tr th {\n",
       "        vertical-align: top;\n",
       "    }\n",
       "\n",
       "    .dataframe thead th {\n",
       "        text-align: right;\n",
       "    }\n",
       "</style>\n",
       "<table border=\"1\" class=\"dataframe\">\n",
       "  <thead>\n",
       "    <tr style=\"text-align: right;\">\n",
       "      <th></th>\n",
       "      <th>Category</th>\n",
       "      <th>Resume</th>\n",
       "    </tr>\n",
       "  </thead>\n",
       "  <tbody>\n",
       "    <tr>\n",
       "      <th>0</th>\n",
       "      <td>Data Science</td>\n",
       "      <td>Skills * Programming Languages: Python (pandas...</td>\n",
       "    </tr>\n",
       "    <tr>\n",
       "      <th>1</th>\n",
       "      <td>Data Science</td>\n",
       "      <td>Education Details \\r\\nMay 2013 to May 2017 B.E...</td>\n",
       "    </tr>\n",
       "    <tr>\n",
       "      <th>2</th>\n",
       "      <td>Data Science</td>\n",
       "      <td>Areas of Interest Deep Learning, Control Syste...</td>\n",
       "    </tr>\n",
       "    <tr>\n",
       "      <th>3</th>\n",
       "      <td>Data Science</td>\n",
       "      <td>Skills â¢ R â¢ Python â¢ SAP HANA â¢ Table...</td>\n",
       "    </tr>\n",
       "    <tr>\n",
       "      <th>4</th>\n",
       "      <td>Data Science</td>\n",
       "      <td>Education Details \\r\\n MCA   YMCAUST,  Faridab...</td>\n",
       "    </tr>\n",
       "  </tbody>\n",
       "</table>\n",
       "</div>"
      ],
      "text/plain": [
       "       Category                                             Resume\n",
       "0  Data Science  Skills * Programming Languages: Python (pandas...\n",
       "1  Data Science  Education Details \\r\\nMay 2013 to May 2017 B.E...\n",
       "2  Data Science  Areas of Interest Deep Learning, Control Syste...\n",
       "3  Data Science  Skills â¢ R â¢ Python â¢ SAP HANA â¢ Table...\n",
       "4  Data Science  Education Details \\r\\n MCA   YMCAUST,  Faridab..."
      ]
     },
     "metadata": {},
     "output_type": "display_data"
    },
    {
     "data": {
      "text/plain": [
       "Category\n",
       "Java Developer        84\n",
       "Testing               70\n",
       "DevOps Engineer       55\n",
       "Python Developer      48\n",
       "Web Designing         45\n",
       "HR                    44\n",
       "Hadoop                42\n",
       "Blockchain            40\n",
       "ETL Developer         40\n",
       "Operations Manager    40\n",
       "Name: count, dtype: int64"
      ]
     },
     "metadata": {},
     "output_type": "display_data"
    }
   ],
   "source": [
    "# 1) Load & quick look\n",
    "df = pd.read_csv(DATA_PATH)\n",
    "print(df.shape)\n",
    "display(df.head())\n",
    "display(df['Category'].value_counts().head(10))\n"
   ]
  },
  {
   "cell_type": "code",
   "execution_count": 3,
   "id": "4af3bebf",
   "metadata": {},
   "outputs": [
    {
     "data": {
      "text/html": [
       "<div>\n",
       "<style scoped>\n",
       "    .dataframe tbody tr th:only-of-type {\n",
       "        vertical-align: middle;\n",
       "    }\n",
       "\n",
       "    .dataframe tbody tr th {\n",
       "        vertical-align: top;\n",
       "    }\n",
       "\n",
       "    .dataframe thead th {\n",
       "        text-align: right;\n",
       "    }\n",
       "</style>\n",
       "<table border=\"1\" class=\"dataframe\">\n",
       "  <thead>\n",
       "    <tr style=\"text-align: right;\">\n",
       "      <th></th>\n",
       "      <th>Resume</th>\n",
       "      <th>clean</th>\n",
       "    </tr>\n",
       "  </thead>\n",
       "  <tbody>\n",
       "    <tr>\n",
       "      <th>0</th>\n",
       "      <td>Skills * Programming Languages: Python (pandas...</td>\n",
       "      <td>skills programming languages python pandas num...</td>\n",
       "    </tr>\n",
       "    <tr>\n",
       "      <th>1</th>\n",
       "      <td>Education Details \\r\\nMay 2013 to May 2017 B.E...</td>\n",
       "      <td>education details may to may b e uit rgpv data...</td>\n",
       "    </tr>\n",
       "    <tr>\n",
       "      <th>2</th>\n",
       "      <td>Areas of Interest Deep Learning, Control Syste...</td>\n",
       "      <td>areas of interest deep learning control system...</td>\n",
       "    </tr>\n",
       "  </tbody>\n",
       "</table>\n",
       "</div>"
      ],
      "text/plain": [
       "                                              Resume  \\\n",
       "0  Skills * Programming Languages: Python (pandas...   \n",
       "1  Education Details \\r\\nMay 2013 to May 2017 B.E...   \n",
       "2  Areas of Interest Deep Learning, Control Syste...   \n",
       "\n",
       "                                               clean  \n",
       "0  skills programming languages python pandas num...  \n",
       "1  education details may to may b e uit rgpv data...  \n",
       "2  areas of interest deep learning control system...  "
      ]
     },
     "execution_count": 3,
     "metadata": {},
     "output_type": "execute_result"
    }
   ],
   "source": [
    "# 2) Clean text (simple, robust)\n",
    "def clean_text(x: str) -> str:\n",
    "    if not isinstance(x, str): return \"\"\n",
    "    x = re.sub(r'http\\S+', ' ', x)\n",
    "    x = re.sub(r'[\\r\\n\\t]+', ' ', x)\n",
    "    x = re.sub(r'[^a-zA-Z ]+', ' ', x)\n",
    "    x = re.sub(r'\\s+', ' ', x).strip().lower()\n",
    "    return x\n",
    "\n",
    "df['clean'] = df['Resume'].fillna(\"\").apply(clean_text)\n",
    "df[['Resume','clean']].head(3)\n"
   ]
  },
  {
   "cell_type": "code",
   "execution_count": 4,
   "id": "daa10dae",
   "metadata": {},
   "outputs": [
    {
     "data": {
      "text/plain": [
       "(array([[1. , 1. , 1. , 1.3, 0. ],\n",
       "        [3. , 0. , 0. , 0. , 0. ],\n",
       "        [1. , 0. , 1. , 0. , 0. ],\n",
       "        [1. , 3. , 1. , 3. , 0. ],\n",
       "        [0. , 0. , 0. , 0. , 0. ]]),\n",
       " (962, 5))"
      ]
     },
     "execution_count": 4,
     "metadata": {},
     "output_type": "execute_result"
    }
   ],
   "source": [
    "# 3) Lexicon for weak labels (Big Five)\n",
    "LEX = {\n",
    "    'O+': {\"research\",\"novel\",\"innovative\",\"creative\",\"explore\",\"curious\",\"prototype\",\"design\",\"brainstorm\",\n",
    "           \"paper\",\"publication\",\"hypothesis\",\"abstract\",\"conceptual\",\"theory\",\"art\",\"literature\"},\n",
    "    'O-': {\"routine\",\"conventional\",\"strictly\",\"unchanged\",\"rote\"},\n",
    "    'C+': {\"deadline\",\"on-time\",\"schedule\",\"organized\",\"plan\",\"milestone\",\"deliverable\",\"tested\",\"qa\",\"documentation\",\n",
    "           \"audit\",\"checklist\",\"process\",\"quality\",\"accuracy\",\"compliance\"},\n",
    "    'C-': {\"delay\",\"messy\",\"late\",\"sloppy\",\"incomplete\",\"improper\"},\n",
    "    'E+': {\"led\",\"lead\",\"presented\",\"present\",\"public\",\"network\",\"client-facing\",\"facilitated\",\"hosted\",\"moderated\",\n",
    "           \"speaker\",\"outreach\",\"demo\",\"pitch\",\"evangelized\"},\n",
    "    'E-': {\"quiet\",\"reserved\",\"introverted\",\"behind-the-scenes\"},\n",
    "    'A+': {\"team\",\"collaborate\",\"collaboration\",\"support\",\"helped\",\"volunteer\",\"community\",\"empathy\",\"stakeholder\",\n",
    "           \"partnered\",\"coordinated\",\"taught\",\"mentored\",\"peer\",\"service\"},\n",
    "    'A-': {\"conflict\",\"argued\",\"blame\",\"criticized\",\"dispute\"},\n",
    "    'N+': {\"stress\",\"anxious\",\"overwhelmed\",\"frustrated\",\"nervous\",\"worried\"},\n",
    "    'N-': {\"resilient\",\"calm\",\"composed\",\"stable\",\"cope\",\"de-escalate\",\"mindful\",\"poise\"}\n",
    "}\n",
    "STOP = {\"and\",\"the\",\"a\",\"to\",\"of\",\"in\",\"on\",\"for\",\"with\",\"at\",\"by\",\"an\",\"as\",\"is\",\"are\",\"was\",\"were\",\"be\",\"being\",\"been\"}\n",
    "\n",
    "def tokenize(s: str):\n",
    "    return [w for w in s.split() if len(w) > 2 and w not in STOP]\n",
    "\n",
    "def bigfive_weak_labels(text: str):\n",
    "    toks = set(tokenize(text))\n",
    "    def score(pos_set, neg_set):\n",
    "        pos = len(toks & pos_set)\n",
    "        neg = len(toks & neg_set)\n",
    "        return pos - 0.7*neg\n",
    "    O = score(LEX['O+'], LEX['O-'])\n",
    "    C = score(LEX['C+'], LEX['C-'])\n",
    "    E = score(LEX['E+'], LEX['E-'])\n",
    "    A = score(LEX['A+'], LEX['A-'])\n",
    "    N = score(LEX['N+'], LEX['N-'])  # higher means more neurotic signals\n",
    "    return np.array([O,C,E,A,N], dtype=float)\n",
    "\n",
    "raw_scores = np.vstack(df['clean'].apply(bigfive_weak_labels).values)\n",
    "raw_scores[:5], raw_scores.shape\n"
   ]
  },
  {
   "cell_type": "code",
   "execution_count": 5,
   "id": "40bd5e3e",
   "metadata": {},
   "outputs": [
    {
     "data": {
      "text/plain": [
       "array([[0.36170213, 0.18888889, 0.25      , 0.26      , 0.28571429],\n",
       "       [0.78723404, 0.07777778, 0.        , 0.        , 0.28571429],\n",
       "       [0.36170213, 0.07777778, 0.25      , 0.        , 0.28571429],\n",
       "       [0.36170213, 0.41111111, 0.25      , 0.6       , 0.28571429],\n",
       "       [0.14893617, 0.07777778, 0.        , 0.        , 0.28571429]])"
      ]
     },
     "execution_count": 5,
     "metadata": {},
     "output_type": "execute_result"
    }
   ],
   "source": [
    "# 4) Normalize weak labels to [0,1]\n",
    "scaler_labels = MinMaxScaler(feature_range=(0,1))\n",
    "labels_norm = scaler_labels.fit_transform(raw_scores)\n",
    "labels_norm[:5]\n"
   ]
  },
  {
   "cell_type": "code",
   "execution_count": 6,
   "id": "37b4d818",
   "metadata": {},
   "outputs": [
    {
     "data": {
      "text/plain": [
       "((962, 8000), (962, 5))"
      ]
     },
     "execution_count": 6,
     "metadata": {},
     "output_type": "execute_result"
    }
   ],
   "source": [
    "# 5) TF-IDF features\n",
    "tfidf = TfidfVectorizer(max_features=8000, ngram_range=(1,2), min_df=2)\n",
    "X = tfidf.fit_transform(df['clean']).astype(np.float32)\n",
    "y = labels_norm\n",
    "X.shape, y.shape\n"
   ]
  },
  {
   "cell_type": "code",
   "execution_count": 7,
   "id": "8d4c1067",
   "metadata": {},
   "outputs": [
    {
     "name": "stdout",
     "output_type": "stream",
     "text": [
      "R2 (avg): 0.8958353710390371\n",
      "MSE (avg): 0.0035264433235187172\n",
      "Openness           R2=0.874\n",
      "Conscientiousness  R2=0.947\n",
      "Extraversion       R2=0.894\n",
      "Agreeableness      R2=0.931\n",
      "Neuroticism        R2=0.833\n"
     ]
    }
   ],
   "source": [
    "# 6) Train multi-output Ridge using solver='lsqr' (avoids sparse_cg SciPy API issue)\n",
    "X_train, X_test, y_train, y_test = train_test_split(X, y, test_size=0.2, random_state=42)\n",
    "model = MultiOutputRegressor(Ridge(alpha=2.0, random_state=42, solver='lsqr'))\n",
    "model.fit(X_train, y_train)\n",
    "y_pred = np.clip(model.predict(X_test), 0, 1)\n",
    "print('R2 (avg):', r2_score(y_test, y_pred, multioutput='uniform_average'))\n",
    "print('MSE (avg):', mean_squared_error(y_test, y_pred))\n",
    "for i, t in enumerate([\"Openness\",\"Conscientiousness\",\"Extraversion\",\"Agreeableness\",\"Neuroticism\"]):\n",
    "    print(f\"{t:18s} R2={r2_score(y_test[:,i], y_pred[:,i]):.3f}\")\n"
   ]
  },
  {
   "cell_type": "code",
   "execution_count": 8,
   "id": "15ac516a",
   "metadata": {},
   "outputs": [
    {
     "data": {
      "image/png": "[encoded data removed]",
      "text/plain": [
       "<Figure size 1500x300 with 5 Axes>"
      ]
     },
     "metadata": {},
     "output_type": "display_data"
    }
   ],
   "source": [
    "# 7) Quick sanity plots\n",
    "traits = [\"O\",\"C\",\"E\",\"A\",\"N\"]\n",
    "fig, axes = plt.subplots(1,5, figsize=(15,3))\n",
    "for i,ax in enumerate(axes):\n",
    "    ax.scatter(y_test[:,i], y_pred[:,i], s=6, alpha=0.5)\n",
    "    ax.set_title(traits[i]); ax.set_xlabel('true'); ax.set_ylabel('pred')\n",
    "    ax.set_xlim(0,1); ax.set_ylim(0,1)\n",
    "plt.tight_layout(); plt.show()\n"
   ]
  },
  {
   "cell_type": "code",
   "execution_count": 9,
   "id": "ebd679a1",
   "metadata": {},
   "outputs": [
    {
     "name": "stdout",
     "output_type": "stream",
     "text": [
      "Saved: tfidf_b5.pkl bigfive_ridge.pkl label_minmax.pkl meta.json\n"
     ]
    }
   ],
   "source": [
    "# 8) Save artifacts as flat files (no folder)\n",
    "joblib.dump(tfidf, TFIDF_PATH)\n",
    "joblib.dump(model, MODEL_PATH)\n",
    "joblib.dump(scaler_labels, LABEL_SCALER_PATH)\n",
    "meta = {\n",
    "    'labels': [\"Openness\",\"Conscientiousness\",\"Extraversion\",\"Agreeableness\",\"Neuroticism\"],\n",
    "    'vectorizer': 'tfidf',\n",
    "    'model': 'ridge_multioutput_lsqr',\n",
    "    'note': 'Trained on weak labels from lexicon',\n",
    "    'files': [TFIDF_PATH, MODEL_PATH, LABEL_SCALER_PATH]\n",
    "}\n",
    "json.dump(meta, open(META_PATH,'w'), indent=2)\n",
    "print('Saved:', TFIDF_PATH, MODEL_PATH, LABEL_SCALER_PATH, META_PATH)\n"
   ]
  },
  {
   "cell_type": "code",
   "execution_count": 10,
   "id": "93b52475",
   "metadata": {},
   "outputs": [
    {
     "name": "stdout",
     "output_type": "stream",
     "text": [
      "{'Openness': 0.3602098462250541, 'Conscientiousness': 0.22766205328275116, 'Extraversion': 0.25007351061782546, 'Agreeableness': 0.32193505074137363, 'Neuroticism': 0.28924341286753674}\n"
     ]
    }
   ],
   "source": [
    "# 9) Inference helper\n",
    "def predict_bigfive_from_resume(text: str):\n",
    "    cleaned = clean_text(text)\n",
    "    vec = tfidf.transform([cleaned])\n",
    "    preds = np.clip(model.predict(vec)[0], 0, 1)\n",
    "    return {\n",
    "        'Openness': preds[0],\n",
    "        'Conscientiousness': preds[1],\n",
    "        'Extraversion': preds[2],\n",
    "        'Agreeableness': preds[3],\n",
    "        'Neuroticism': preds[4]\n",
    "    }\n",
    "print(predict_bigfive_from_resume(df.iloc[0]['Resume']))\n"
   ]
  }
 ],
 "metadata": {
  "kernelspec": {
   "display_name": "Python 3 (ipykernel)",
   "language": "python",
   "name": "python3"
  },
  "language_info": {
   "codemirror_mode": {
    "name": "ipython",
    "version": 3
   },
   "file_extension": ".py",
   "mimetype": "text/x-python",
   "name": "python",
   "nbconvert_exporter": "python",
   "pygments_lexer": "ipython3",
   "version": "3.11.7"
  }
 },
 "nbformat": 4,
 "nbformat_minor": 5
}
